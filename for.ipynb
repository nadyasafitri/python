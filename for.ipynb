{
 "cells": [
  {
   "cell_type": "code",
   "execution_count": 3,
   "metadata": {},
   "outputs": [],
   "source": [
    "colors = [\"nadya\",\"pink\",\"orange\",\"red\",\"green\",\"yellow\"]"
   ]
  },
  {
   "cell_type": "code",
   "execution_count": 4,
   "metadata": {},
   "outputs": [
    {
     "name": "stdout",
     "output_type": "stream",
     "text": [
      "['pink', 'pink', 'pink', 'pink', 'pink', 'pink']\n"
     ]
    }
   ],
   "source": [
    "#Looping \n",
    "for i in range(0,6):\n",
    "    colors[i] = \"pink\"\n",
    "print(colors)"
   ]
  },
  {
   "cell_type": "code",
   "execution_count": null,
   "metadata": {},
   "outputs": [],
   "source": [
    "#looping upper #looping lower\n",
    "for color in colors:\n",
    "    print(color.upper())\n",
    "for color in colors:\n",
    "    print(color.lower())"
   ]
  },
  {
   "cell_type": "code",
   "execution_count": null,
   "metadata": {},
   "outputs": [],
   "source": [
    "#looping enumarate\n",
    "for i, color in enumerate(colors):\n",
    "    print(\"color nadya\" + \"\\t\" + str(i) + \"\\t\" +color)"
   ]
  },
  {
   "cell_type": "code",
   "execution_count": null,
   "metadata": {},
   "outputs": [],
   "source": [
    "#while\n",
    "colors = [\"orage\",\"orange\",\"pink\",\"orange\"]\n",
    "oranges = []\n",
    "i = 3\n",
    "\n",
    "while (colors[i] == \"orange\"):\n",
    "    oranges.append(colors[i])\n",
    "    colors[i] != \"orange\"\n",
    "i = i + 1\n",
    "       \n",
    "print(oranges)"
   ]
  },
  {
   "cell_type": "code",
   "execution_count": null,
   "metadata": {},
   "outputs": [],
   "source": [
    "#sorted dan list sorted\n",
    "grades = [22,44,55,77,10,100,80]\n",
    "sorted_grades = sorted(grades)"
   ]
  },
  {
   "cell_type": "code",
   "execution_count": null,
   "metadata": {},
   "outputs": [],
   "source": [
    "sorted_grades #sorted : mengurutkan"
   ]
  },
  {
   "cell_type": "code",
   "execution_count": null,
   "metadata": {},
   "outputs": [],
   "source": [
    "grades #menampilkan grades"
   ]
  },
  {
   "cell_type": "code",
   "execution_count": null,
   "metadata": {},
   "outputs": [],
   "source": [
    "grades.sort()#sort fungsi\n",
    "grades"
   ]
  },
  {
   "cell_type": "code",
   "execution_count": null,
   "metadata": {},
   "outputs": [],
   "source": [
    "len(grades) #panjang"
   ]
  },
  {
   "cell_type": "code",
   "execution_count": null,
   "metadata": {},
   "outputs": [],
   "source": [
    "sum(grades) #jumlahan"
   ]
  },
  {
   "cell_type": "code",
   "execution_count": null,
   "metadata": {},
   "outputs": [],
   "source": []
  }
 ],
 "metadata": {
  "kernelspec": {
   "display_name": "Python 3",
   "language": "python",
   "name": "python3"
  }
 },
 "nbformat": 4,
 "nbformat_minor": 2
}
