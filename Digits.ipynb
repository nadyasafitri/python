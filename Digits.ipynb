{
 "cells": [
  {
   "cell_type": "code",
   "execution_count": 1,
   "metadata": {},
   "outputs": [],
   "source": [
    "from sklearn import datasets"
   ]
  },
  {
   "cell_type": "code",
   "execution_count": 3,
   "metadata": {},
   "outputs": [],
   "source": [
    "digits = datasets.load_digits()"
   ]
  },
  {
   "cell_type": "code",
   "execution_count": 8,
   "metadata": {},
   "outputs": [],
   "source": [
    "X = digits.data\n",
    "Y = digits.target"
   ]
  },
  {
   "cell_type": "code",
   "execution_count": 9,
   "metadata": {},
   "outputs": [],
   "source": [
    "from sklearn.model_selection import train_test_split"
   ]
  },
  {
   "cell_type": "code",
   "execution_count": 10,
   "metadata": {},
   "outputs": [],
   "source": [
    "from sklearn.metrics import classification_report"
   ]
  },
  {
   "cell_type": "code",
   "execution_count": 32,
   "metadata": {},
   "outputs": [],
   "source": [
    "X_train, X_test, Y_train, Y_test = train_test_split(X,Y,test_size=0.2,random_state=40)"
   ]
  },
  {
   "cell_type": "code",
   "execution_count": 33,
   "metadata": {},
   "outputs": [
    {
     "data": {
      "text/plain": [
       "array([[ 0.,  0.,  5., ...,  9.,  0.,  0.],\n",
       "       [ 0.,  0.,  2., ..., 15.,  4.,  0.],\n",
       "       [ 0.,  0.,  0., ...,  0.,  0.,  0.],\n",
       "       ...,\n",
       "       [ 0.,  0.,  7., ...,  0.,  0.,  0.],\n",
       "       [ 0.,  1., 12., ...,  1.,  0.,  0.],\n",
       "       [ 0.,  0., 10., ..., 15.,  4.,  0.]])"
      ]
     },
     "execution_count": 33,
     "metadata": {},
     "output_type": "execute_result"
    }
   ],
   "source": [
    "X_train"
   ]
  },
  {
   "cell_type": "code",
   "execution_count": 34,
   "metadata": {},
   "outputs": [],
   "source": [
    "from sklearn.svm import SVC"
   ]
  },
  {
   "cell_type": "code",
   "execution_count": 35,
   "metadata": {},
   "outputs": [],
   "source": [
    "clf = SVC()"
   ]
  },
  {
   "cell_type": "code",
   "execution_count": 45,
   "metadata": {},
   "outputs": [
    {
     "data": {
      "text/plain": [
       "SVC(C=1.0, cache_size=200, class_weight=None, coef0=0.0,\n",
       "  decision_function_shape='ovr', degree=3, gamma='auto_deprecated',\n",
       "  kernel='linear', max_iter=-1, probability=False, random_state=None,\n",
       "  shrinking=True, tol=0.001, verbose=False)"
      ]
     },
     "execution_count": 45,
     "metadata": {},
     "output_type": "execute_result"
    }
   ],
   "source": [
    "clf.set_params(kernel='linear').fit(X,Y)b"
   ]
  },
  {
   "cell_type": "code",
   "execution_count": 47,
   "metadata": {},
   "outputs": [
    {
     "data": {
      "text/plain": [
       "SVC(C=1.0, cache_size=200, class_weight=None, coef0=0.0,\n",
       "  decision_function_shape='ovr', degree=3, gamma='auto_deprecated',\n",
       "  kernel='linear', max_iter=-1, probability=False, random_state=None,\n",
       "  shrinking=True, tol=0.001, verbose=False)"
      ]
     },
     "execution_count": 47,
     "metadata": {},
     "output_type": "execute_result"
    }
   ],
   "source": [
    "clf.fit(X_train, Y_train)"
   ]
  },
  {
   "cell_type": "code",
   "execution_count": 48,
   "metadata": {},
   "outputs": [],
   "source": [
    "predic = clf.predict(X_test)"
   ]
  },
  {
   "cell_type": "code",
   "execution_count": 49,
   "metadata": {},
   "outputs": [
    {
     "data": {
      "text/plain": [
       "array([8, 1, 9, 0, 3, 3, 2, 7, 3, 9, 0, 4, 0, 6, 7, 6, 7, 3, 5, 0, 1, 8,\n",
       "       5, 2, 0, 6, 4, 1, 7, 5, 5, 8, 4, 2, 6, 4, 8, 9, 7, 5, 5, 9, 8, 4,\n",
       "       2, 2, 3, 5, 0, 0, 1, 9, 1, 9, 1, 2, 6, 4, 5, 1, 8, 4, 8, 0, 7, 6,\n",
       "       3, 9, 4, 4, 3, 2, 7, 4, 7, 6, 2, 9, 5, 4, 1, 8, 9, 1, 2, 4, 3, 4,\n",
       "       3, 1, 2, 5, 0, 0, 7, 1, 1, 6, 7, 0, 8, 2, 5, 1, 1, 5, 2, 1, 2, 1,\n",
       "       4, 4, 4, 8, 9, 6, 6, 3, 6, 4, 1, 8, 8, 3, 7, 6, 2, 1, 1, 2, 9, 8,\n",
       "       4, 9, 9, 3, 7, 7, 6, 9, 1, 6, 2, 4, 5, 8, 0, 5, 4, 4, 3, 2, 7, 9,\n",
       "       7, 6, 2, 2, 9, 7, 2, 6, 6, 5, 2, 1, 8, 1, 7, 4, 3, 8, 9, 4, 1, 7,\n",
       "       6, 1, 1, 0, 4, 4, 8, 1, 4, 0, 0, 7, 3, 0, 7, 9, 0, 1, 0, 3, 0, 9,\n",
       "       6, 9, 6, 8, 1, 0, 1, 8, 3, 4, 7, 8, 9, 9, 8, 8, 4, 1, 6, 5, 5, 1,\n",
       "       1, 3, 9, 6, 2, 3, 6, 2, 6, 6, 8, 4, 1, 8, 9, 8, 6, 3, 2, 5, 1, 3,\n",
       "       2, 0, 1, 0, 8, 1, 9, 6, 6, 9, 9, 4, 3, 6, 0, 9, 1, 9, 4, 7, 7, 8,\n",
       "       1, 3, 7, 6, 9, 4, 2, 7, 7, 8, 5, 7, 7, 1, 5, 3, 3, 5, 9, 8, 5, 4,\n",
       "       9, 0, 4, 8, 7, 3, 7, 6, 8, 6, 8, 2, 2, 0, 8, 7, 3, 8, 4, 1, 2, 7,\n",
       "       6, 4, 1, 1, 2, 0, 8, 1, 1, 9, 2, 3, 9, 4, 6, 0, 0, 1, 3, 3, 5, 9,\n",
       "       7, 2, 2, 8, 5, 9, 2, 2, 0, 3, 3, 7, 3, 9, 9, 2, 5, 5, 4, 1, 3, 0,\n",
       "       9, 7, 5, 2, 9, 5, 2, 1])"
      ]
     },
     "execution_count": 49,
     "metadata": {},
     "output_type": "execute_result"
    }
   ],
   "source": [
    "Y_test"
   ]
  },
  {
   "cell_type": "code",
   "execution_count": 43,
   "metadata": {},
   "outputs": [
    {
     "data": {
      "text/plain": [
       "array([[ 0.,  0.,  3., ...,  3.,  0.,  0.],\n",
       "       [ 0.,  0.,  1., ...,  9.,  0.,  0.],\n",
       "       [ 0.,  0.,  2., ...,  4.,  0.,  0.],\n",
       "       ...,\n",
       "       [ 0.,  0., 11., ...,  1.,  0.,  0.],\n",
       "       [ 0.,  0.,  0., ...,  6.,  0.,  0.],\n",
       "       [ 0.,  0.,  0., ...,  4.,  0.,  0.]])"
      ]
     },
     "execution_count": 43,
     "metadata": {},
     "output_type": "execute_result"
    }
   ],
   "source": [
    "X_test"
   ]
  },
  {
   "cell_type": "code",
   "execution_count": 51,
   "metadata": {},
   "outputs": [
    {
     "name": "stdout",
     "output_type": "stream",
     "text": [
      "              precision    recall  f1-score   support\n",
      "\n",
      "           0       1.00      1.00      1.00        30\n",
      "           1       0.96      1.00      0.98        47\n",
      "           2       1.00      1.00      1.00        38\n",
      "           3       0.92      0.97      0.94        34\n",
      "           4       1.00      1.00      1.00        38\n",
      "           5       0.96      0.96      0.96        28\n",
      "           6       1.00      1.00      1.00        34\n",
      "           7       1.00      1.00      1.00        35\n",
      "           8       0.97      0.89      0.93        36\n",
      "           9       0.97      0.95      0.96        40\n",
      "\n",
      "   micro avg       0.98      0.98      0.98       360\n",
      "   macro avg       0.98      0.98      0.98       360\n",
      "weighted avg       0.98      0.98      0.98       360\n",
      "\n"
     ]
    }
   ],
   "source": [
    "print(classification_report(Y_test, predic))"
   ]
  },
  {
   "cell_type": "code",
   "execution_count": 52,
   "metadata": {},
   "outputs": [],
   "source": [
    "from sklearn.metrics import confusion_matrix, accuracy_score"
   ]
  },
  {
   "cell_type": "code",
   "execution_count": 53,
   "metadata": {},
   "outputs": [
    {
     "name": "stdout",
     "output_type": "stream",
     "text": [
      "[[30  0  0  0  0  0  0  0  0  0]\n",
      " [ 0 47  0  0  0  0  0  0  0  0]\n",
      " [ 0  0 38  0  0  0  0  0  0  0]\n",
      " [ 0  0  0 33  0  0  0  0  0  1]\n",
      " [ 0  0  0  0 38  0  0  0  0  0]\n",
      " [ 0  0  0  1  0 27  0  0  0  0]\n",
      " [ 0  0  0  0  0  0 34  0  0  0]\n",
      " [ 0  0  0  0  0  0  0 35  0  0]\n",
      " [ 0  2  0  2  0  0  0  0 32  0]\n",
      " [ 0  0  0  0  0  1  0  0  1 38]]\n"
     ]
    }
   ],
   "source": [
    "print(confusion_matrix(Y_test,predic))"
   ]
  },
  {
   "cell_type": "code",
   "execution_count": 54,
   "metadata": {},
   "outputs": [
    {
     "name": "stdout",
     "output_type": "stream",
     "text": [
      "0.9777777777777777\n"
     ]
    }
   ],
   "source": [
    "print(accuracy_score(Y_test,predic))"
   ]
  },
  {
   "cell_type": "code",
   "execution_count": null,
   "metadata": {},
   "outputs": [],
   "source": []
  }
 ],
 "metadata": {
  "kernelspec": {
   "display_name": "Python 3",
   "language": "python",
   "name": "python3"
  },
  "language_info": {
   "codemirror_mode": {
    "name": "ipython",
    "version": 3
   },
   "file_extension": ".py",
   "mimetype": "text/x-python",
   "name": "python",
   "nbconvert_exporter": "python",
   "pygments_lexer": "ipython3",
   "version": "3.7.1"
  }
 },
 "nbformat": 4,
 "nbformat_minor": 2
}
